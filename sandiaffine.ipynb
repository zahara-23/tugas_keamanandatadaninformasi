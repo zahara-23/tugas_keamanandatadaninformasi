{
  "nbformat": 4,
  "nbformat_minor": 0,
  "metadata": {
    "colab": {
      "provenance": [],
      "authorship_tag": "ABX9TyNUNtN4e+C48f08NIV11h9b",
      "include_colab_link": true
    },
    "kernelspec": {
      "name": "python3",
      "display_name": "Python 3"
    },
    "language_info": {
      "name": "python"
    }
  },
  "cells": [
    {
      "cell_type": "markdown",
      "metadata": {
        "id": "view-in-github",
        "colab_type": "text"
      },
      "source": [
        "<a href=\"https://colab.research.google.com/github/zahara-23/tugas_keamanandatadaninformasi/blob/main/sandiaffine.ipynb\" target=\"_parent\"><img src=\"https://colab.research.google.com/assets/colab-badge.svg\" alt=\"Open In Colab\"/></a>"
      ]
    },
    {
      "cell_type": "code",
      "execution_count": null,
      "metadata": {
        "id": "qgJcSD0wPOnq"
      },
      "outputs": [],
      "source": [
        "from math import gcd\n",
        "\n",
        "class AffineCipher:\n",
        "    def __init__(self, a, b):\n",
        "        # kunci (a,b)\n",
        "        if gcd(a, 26) != 1:\n",
        "            raise ValueError(\"a harus relatif prima dengan 26 agar punya invers\")\n",
        "        self.a = a\n",
        "        self.b = b\n",
        "        self.m = 26  # alfabet A-Z\n",
        "\n",
        "    def mod_inverse(self, a, m):\n",
        "        \"\"\"Mencari invers a mod m dengan Extended Euclidean Algorithm\"\"\"\n",
        "        for i in range(1, m):\n",
        "            if (a * i) % m == 1:\n",
        "                return i\n",
        "        return None\n",
        "\n",
        "    def enkripsi(self, x):\n",
        "        \"\"\"x adalah indeks huruf (0-25)\"\"\"\n",
        "        return (self.a * x + self.b) % self.m\n",
        "\n",
        "    def dekripsi(self, y):\n",
        "        \"\"\"y adalah indeks huruf (0-25)\"\"\"\n",
        "        a_inv = self.mod_inverse(self.a, self.m)\n",
        "        return (a_inv * (y - self.b)) % self.m\n",
        "\n",
        "    def encrypt_text(self, text):\n",
        "        \"\"\"Enkripsi teks huruf besar\"\"\"\n",
        "        result = \"\"\n",
        "        for char in text.upper():\n",
        "            if char.isalpha():\n",
        "                x = ord(char) - ord('A')\n",
        "                enc = self.enkripsi(x)\n",
        "                result += chr(enc + ord('A'))\n",
        "            else:\n",
        "                result += char\n",
        "        return result\n",
        "\n",
        "    def decrypt_text(self, text):\n",
        "        \"\"\"Dekripsi teks huruf besar\"\"\"\n",
        "        result = \"\"\n",
        "        for char in text.upper():\n",
        "            if char.isalpha():\n",
        "                y = ord(char) - ord('A')\n",
        "                dec = self.dekripsi(y)\n",
        "                result += chr(dec + ord('A'))\n",
        "            else:\n",
        "                result += char\n",
        "        return result\n",
        "\n",
        "\n",
        "# Contoh penggunaan\n",
        "cipher = AffineCipher(5, 8)   # a=5, b=8\n",
        "plain = \"HELLO\"\n",
        "encrypted = cipher.encrypt_text(plain)\n",
        "decrypted = cipher.decrypt_text(encrypted)\n",
        "\n",
        "print(\"Plaintext :\", plain)\n",
        "print(\"Terenkripsi :\", encrypted)\n",
        "print(\"Terdekripsi :\",decrypted)"
      ]
    }
  ]
}